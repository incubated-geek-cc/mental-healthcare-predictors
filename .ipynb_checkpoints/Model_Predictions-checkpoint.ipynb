{
 "cells": [
  {
   "cell_type": "code",
   "execution_count": 1,
   "metadata": {},
   "outputs": [],
   "source": [
    "def predict_input_file_results(input_filename):\n",
    "    import numpy as np\n",
    "    import pandas as pd\n",
    "    import pickle\n",
    "    import json\n",
    "    f = open(\"input/all_labels_df.json\",\"r\")\n",
    "    all_labels_df = json.load(f)\n",
    "    f.close()\n",
    "\n",
    "    f2 = open(\"input/all_encoded_labels_df.json\",\"r\")\n",
    "    all_encoded_labels_df = json.load(f2)\n",
    "    f2.close()\n",
    "\n",
    "    f3 = open(\"input/X_test.json\",\"r\")\n",
    "    X_test = json.load(f3)\n",
    "    f3.close()\n",
    "\n",
    "    input_df=pd.read_csv(input_filename)\n",
    "    input_df_original=input_df.copy()\n",
    "    \n",
    "    all_cols=X_test\n",
    "    input_df=input_df[all_cols]\n",
    "    for col in all_cols:\n",
    "        input_df[col]=input_df[col].apply(lambda x: all_encoded_labels_df[col][str(x)])\n",
    "    \n",
    "    filename = \"output/model.pkl\"\n",
    "    model = pickle.load(open(filename, \"rb\"))\n",
    "    arr_results = model.predict(input_df)\n",
    "\n",
    "    input_df_original[\"treatment\"]=pd.Series(arr_results)\n",
    "    input_df_original[\"treatment\"]=input_df_original[\"treatment\"].apply(lambda x: all_labels_df[\"treatment\"][str(x)])\n",
    "        \n",
    "    input_df_original.rename(columns={\"treatment\":\"predicted_treatment\"},inplace=True)\n",
    "    input_df_original.to_excel(r\"output/predicted_model_results.xlsx\",sheet_name=\"model_prediction\",index=False)\n",
    "    print(\"Saved as predicted_model_results.xlsx\")"
   ]
  },
  {
   "cell_type": "code",
   "execution_count": 2,
   "metadata": {},
   "outputs": [],
   "source": [
    "from datetime import datetime,timedelta\n",
    "import os\n",
    "import sys\n",
    "\n",
    "input_folder=\"input\"\n",
    "input_filename=\"cleaned_survey_2018.csv\"\n",
    "\n",
    "all_datetime_created_obj=[]\n",
    "for file in os.listdir(input_folder):\n",
    "    if file.endswith(input_filename):\n",
    "        actual_filename=file\n",
    "        datetime_created_str=actual_filename.replace(input_filename,\"\")\n",
    "        datetime_created_obj=datetime.strptime(datetime_created_str, \"%d%b%Y_%H%M%S_%f\")\n",
    "        all_datetime_created_obj.append(datetime_created_obj)\n",
    "        \n",
    "# input/05Jan2021_141333_511747cleaned_survey_2018.csv\n",
    "latest_datetime_created_obj=max(all_datetime_created_obj)\n",
    "latest_datetime_created_str=latest_datetime_created_obj.strftime(\"%d%b%Y_%H%M%S_%f\")\n",
    "input_file=input_folder+\"/\"+latest_datetime_created_str+input_filename"
   ]
  },
  {
   "cell_type": "code",
   "execution_count": 3,
   "metadata": {},
   "outputs": [
    {
     "name": "stdout",
     "output_type": "stream",
     "text": [
      "Saved as predicted_model_results.xlsx\n"
     ]
    }
   ],
   "source": [
    "predict_input_file_results(input_file) #\"input/cleaned_survey_2019.csv\""
   ]
  },
  {
   "cell_type": "markdown",
   "metadata": {},
   "source": [
    "## <small>Based on the model trained by `2018` data, predictions made for `2019` dataset had an accuracy of</small> 82%"
   ]
  }
 ],
 "metadata": {
  "kernelspec": {
   "display_name": "Python 3",
   "language": "python",
   "name": "python3"
  },
  "language_info": {
   "codemirror_mode": {
    "name": "ipython",
    "version": 3
   },
   "file_extension": ".py",
   "mimetype": "text/x-python",
   "name": "python",
   "nbconvert_exporter": "python",
   "pygments_lexer": "ipython3",
   "version": "3.7.9"
  }
 },
 "nbformat": 4,
 "nbformat_minor": 4
}
